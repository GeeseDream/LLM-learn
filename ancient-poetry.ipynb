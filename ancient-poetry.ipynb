{
 "cells": [
  {
   "cell_type": "code",
   "execution_count": 2,
   "metadata": {},
   "outputs": [],
   "source": [
    "MODEL_PATH=\"THUDM/chatglm3-6b\""
   ]
  },
  {
   "cell_type": "code",
   "execution_count": 3,
   "metadata": {},
   "outputs": [
    {
     "name": "stderr",
     "output_type": "stream",
     "text": [
      "/usr/local/lib/python3.11/dist-packages/tqdm/auto.py:21: TqdmWarning: IProgress not found. Please update jupyter and ipywidgets. See https://ipywidgets.readthedocs.io/en/stable/user_install.html\n",
      "  from .autonotebook import tqdm as notebook_tqdm\n"
     ]
    }
   ],
   "source": [
    "from transformers import AutoTokenizer, AutoModel, StoppingCriteria, StoppingCriteriaList"
   ]
  },
  {
   "cell_type": "code",
   "execution_count": 4,
   "metadata": {},
   "outputs": [
    {
     "name": "stderr",
     "output_type": "stream",
     "text": [
      "Loading checkpoint shards: 100%|██████████| 7/7 [00:14<00:00,  2.02s/it]\n"
     ]
    }
   ],
   "source": [
    "tokenizer = AutoTokenizer.from_pretrained(MODEL_PATH, trust_remote_code=True)\n",
    "model = AutoModel.from_pretrained(\n",
    "    MODEL_PATH, trust_remote_code=True).half().cuda()"
   ]
  },
  {
   "cell_type": "code",
   "execution_count": 5,
   "metadata": {},
   "outputs": [],
   "source": [
    "chat_history = \"\"\"<|human|>\n",
    "白日依山尽，黄河入海流。_，更上一层楼。\n",
    "<|bot|>\n",
    "填空：欲穷千里目\n",
    "<|human|>\n",
    "少小离家老大回，_。儿童相见不相识，笑问客从何出来。\n",
    "<|bot|>\n",
    "填空： 乡音无改鬓毛衰\n",
    "<|human|>\n",
    "朱雀桥边野草花，乌衣巷口夕阳斜。_，飞入寻常百姓家。\n",
    "<|bot|>\n",
    "填空：旧时王谢堂前燕\"\"\""
   ]
  },
  {
   "cell_type": "code",
   "execution_count": 2,
   "metadata": {},
   "outputs": [],
   "source": [
    "gen_kwargs = {\"max_new_tokens\": 1024,\n",
    "              \"do_sample\": True,\n",
    "              \"top_p\": 0.5,\n",
    "              \"temperature\": 0.6,\n",
    "              \"repetition_penalty\": 1.1,\n",
    "              \"length_penalty\": 1,\n",
    "              \"num_beams\": 1\n",
    "              }"
   ]
  },
  {
   "cell_type": "code",
   "execution_count": 62,
   "metadata": {},
   "outputs": [],
   "source": [
    "def chat(prompt: str) -> None:\n",
    "    input_text = f\"{chat_history}\\n<|human|>\\n{prompt}\\n<|bot|>\\n\"\n",
    "    inputs = tokenizer([input_text], return_tensors=\"pt\").to(model.device)\n",
    "    outputs = model.generate(**inputs, **gen_kwargs)\n",
    "    print(tokenizer.decode(outputs[0].tolist()[3:], skip_special_tokens=True))"
   ]
  },
  {
   "cell_type": "code",
   "execution_count": 63,
   "metadata": {},
   "outputs": [
    {
     "name": "stdout",
     "output_type": "stream",
     "text": [
      "|human|>\n",
      "白日依山尽，黄河入海流。_，更上一层楼。\n",
      "<|bot|>\n",
      "填空：欲穷千里目\n",
      "<|human|>\n",
      "少小离家老大回，_。儿童相见不相识，笑问客从何出来。\n",
      "<|bot|>\n",
      "填空： 乡音无改鬓毛衰\n",
      "<|human|>\n",
      "朱雀桥边野草花，乌衣巷口夕阳斜。_，飞入寻常百姓家。\n",
      "<|bot|>\n",
      "填空：旧时王谢堂前燕\n",
      "<|human|>\n",
      "秦时明月汉时关，万里长征人未还。_，不教胡马度阴山。\n",
      "<|bot|>\n",
      "填空：但使龙城飞将在\n"
     ]
    }
   ],
   "source": [
    "chat(\"秦时明月汉时关，万里长征人未还。_，不教胡马度阴山。\")"
   ]
  },
  {
   "cell_type": "code",
   "execution_count": 65,
   "metadata": {},
   "outputs": [
    {
     "name": "stdout",
     "output_type": "stream",
     "text": [
      "|human|>\n",
      "白日依山尽，黄河入海流。_，更上一层楼。\n",
      "<|bot|>\n",
      "填空：欲穷千里目\n",
      "<|human|>\n",
      "少小离家老大回，_。儿童相见不相识，笑问客从何出来。\n",
      "<|bot|>\n",
      "填空： 乡音无改鬓毛衰\n",
      "<|human|>\n",
      "朱雀桥边野草花，乌衣巷口夕阳斜。_，飞入寻常百姓家。\n",
      "<|bot|>\n",
      "填空：旧时王谢堂前燕\n",
      "<|human|>\n",
      "碧玉妆成一树高，万条垂下绿丝绦。_，二月春风似剪刀。\n",
      "<|bot|>\n",
      "填空：不知细叶谁裁出\n"
     ]
    }
   ],
   "source": [
    "chat(\"碧玉妆成一树高，万条垂下绿丝绦。_，二月春风似剪刀。\")"
   ]
  },
  {
   "cell_type": "code",
   "execution_count": 66,
   "metadata": {},
   "outputs": [
    {
     "name": "stdout",
     "output_type": "stream",
     "text": [
      "|human|>\n",
      "白日依山尽，黄河入海流。_，更上一层楼。\n",
      "<|bot|>\n",
      "填空：欲穷千里目\n",
      "<|human|>\n",
      "少小离家老大回，_。儿童相见不相识，笑问客从何出来。\n",
      "<|bot|>\n",
      "填空： 乡音无改鬓毛衰\n",
      "<|human|>\n",
      "朱雀桥边野草花，乌衣巷口夕阳斜。_，飞入寻常百姓家。\n",
      "<|bot|>\n",
      "填空：旧时王谢堂前燕\n",
      "<|human|>\n",
      "死去元知万事空，但悲不见九州同。_，铁马兵河入梦来。\n",
      "<|bot|>\n",
      "填空：夜阑卧听风吹雨\n"
     ]
    }
   ],
   "source": [
    "chat(\"死去元知万事空，但悲不见九州同。_，铁马兵河入梦来。\")"
   ]
  }
 ],
 "metadata": {
  "kernelspec": {
   "display_name": ".venv",
   "language": "python",
   "name": "python3"
  },
  "language_info": {
   "codemirror_mode": {
    "name": "ipython",
    "version": 3
   },
   "file_extension": ".py",
   "mimetype": "text/x-python",
   "name": "python",
   "nbconvert_exporter": "python",
   "pygments_lexer": "ipython3",
   "version": "3.11.0rc1"
  },
  "orig_nbformat": 4
 },
 "nbformat": 4,
 "nbformat_minor": 2
}
